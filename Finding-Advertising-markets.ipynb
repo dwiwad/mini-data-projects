{
 "cells": [
  {
   "cell_type": "markdown",
   "metadata": {},
   "source": [
    "# Finding the Best Markets\n",
    "\n",
    "The main goal of this project is to find the two best markets to advertise in for an e-learning company that teaches computer science.\n",
    "\n",
    "I'll do this with just a handful of basic descriptive statistics, using a free data set from freeCodeCamp. This data set is from their 2017 New Coder Survey."
   ]
  },
  {
   "cell_type": "code",
   "execution_count": 116,
   "metadata": {
    "collapsed": false
   },
   "outputs": [
    {
     "data": {
      "text/plain": [
       "(18175, 136)"
      ]
     },
     "execution_count": 116,
     "metadata": {},
     "output_type": "execute_result"
    }
   ],
   "source": [
    "# Explore the dataset.\n",
    "import pandas as pd\n",
    "data = pd.read_csv('2017-fCC-New-Coders-Survey-Data.csv',\n",
    "                  low_memory=0)\n",
    "data.shape"
   ]
  },
  {
   "cell_type": "code",
   "execution_count": 117,
   "metadata": {
    "collapsed": false
   },
   "outputs": [
    {
     "data": {
      "text/html": [
       "<div>\n",
       "<style scoped>\n",
       "    .dataframe tbody tr th:only-of-type {\n",
       "        vertical-align: middle;\n",
       "    }\n",
       "\n",
       "    .dataframe tbody tr th {\n",
       "        vertical-align: top;\n",
       "    }\n",
       "\n",
       "    .dataframe thead th {\n",
       "        text-align: right;\n",
       "    }\n",
       "</style>\n",
       "<table border=\"1\" class=\"dataframe\">\n",
       "  <thead>\n",
       "    <tr style=\"text-align: right;\">\n",
       "      <th></th>\n",
       "      <th>Age</th>\n",
       "      <th>AttendedBootcamp</th>\n",
       "      <th>BootcampFinish</th>\n",
       "      <th>BootcampLoanYesNo</th>\n",
       "      <th>BootcampName</th>\n",
       "      <th>BootcampRecommend</th>\n",
       "      <th>ChildrenNumber</th>\n",
       "      <th>CityPopulation</th>\n",
       "      <th>CodeEventConferences</th>\n",
       "      <th>CodeEventDjangoGirls</th>\n",
       "      <th>...</th>\n",
       "      <th>YouTubeFCC</th>\n",
       "      <th>YouTubeFunFunFunction</th>\n",
       "      <th>YouTubeGoogleDev</th>\n",
       "      <th>YouTubeLearnCode</th>\n",
       "      <th>YouTubeLevelUpTuts</th>\n",
       "      <th>YouTubeMIT</th>\n",
       "      <th>YouTubeMozillaHacks</th>\n",
       "      <th>YouTubeOther</th>\n",
       "      <th>YouTubeSimplilearn</th>\n",
       "      <th>YouTubeTheNewBoston</th>\n",
       "    </tr>\n",
       "  </thead>\n",
       "  <tbody>\n",
       "    <tr>\n",
       "      <th>0</th>\n",
       "      <td>27.0</td>\n",
       "      <td>0.0</td>\n",
       "      <td>NaN</td>\n",
       "      <td>NaN</td>\n",
       "      <td>NaN</td>\n",
       "      <td>NaN</td>\n",
       "      <td>NaN</td>\n",
       "      <td>more than 1 million</td>\n",
       "      <td>NaN</td>\n",
       "      <td>NaN</td>\n",
       "      <td>...</td>\n",
       "      <td>NaN</td>\n",
       "      <td>NaN</td>\n",
       "      <td>NaN</td>\n",
       "      <td>NaN</td>\n",
       "      <td>NaN</td>\n",
       "      <td>NaN</td>\n",
       "      <td>NaN</td>\n",
       "      <td>NaN</td>\n",
       "      <td>NaN</td>\n",
       "      <td>NaN</td>\n",
       "    </tr>\n",
       "    <tr>\n",
       "      <th>1</th>\n",
       "      <td>34.0</td>\n",
       "      <td>0.0</td>\n",
       "      <td>NaN</td>\n",
       "      <td>NaN</td>\n",
       "      <td>NaN</td>\n",
       "      <td>NaN</td>\n",
       "      <td>NaN</td>\n",
       "      <td>less than 100,000</td>\n",
       "      <td>NaN</td>\n",
       "      <td>NaN</td>\n",
       "      <td>...</td>\n",
       "      <td>1.0</td>\n",
       "      <td>NaN</td>\n",
       "      <td>NaN</td>\n",
       "      <td>NaN</td>\n",
       "      <td>NaN</td>\n",
       "      <td>NaN</td>\n",
       "      <td>NaN</td>\n",
       "      <td>NaN</td>\n",
       "      <td>NaN</td>\n",
       "      <td>NaN</td>\n",
       "    </tr>\n",
       "    <tr>\n",
       "      <th>2</th>\n",
       "      <td>21.0</td>\n",
       "      <td>0.0</td>\n",
       "      <td>NaN</td>\n",
       "      <td>NaN</td>\n",
       "      <td>NaN</td>\n",
       "      <td>NaN</td>\n",
       "      <td>NaN</td>\n",
       "      <td>more than 1 million</td>\n",
       "      <td>NaN</td>\n",
       "      <td>NaN</td>\n",
       "      <td>...</td>\n",
       "      <td>NaN</td>\n",
       "      <td>NaN</td>\n",
       "      <td>NaN</td>\n",
       "      <td>1.0</td>\n",
       "      <td>1.0</td>\n",
       "      <td>NaN</td>\n",
       "      <td>NaN</td>\n",
       "      <td>NaN</td>\n",
       "      <td>NaN</td>\n",
       "      <td>NaN</td>\n",
       "    </tr>\n",
       "    <tr>\n",
       "      <th>3</th>\n",
       "      <td>26.0</td>\n",
       "      <td>0.0</td>\n",
       "      <td>NaN</td>\n",
       "      <td>NaN</td>\n",
       "      <td>NaN</td>\n",
       "      <td>NaN</td>\n",
       "      <td>NaN</td>\n",
       "      <td>between 100,000 and 1 million</td>\n",
       "      <td>NaN</td>\n",
       "      <td>NaN</td>\n",
       "      <td>...</td>\n",
       "      <td>1.0</td>\n",
       "      <td>1.0</td>\n",
       "      <td>NaN</td>\n",
       "      <td>NaN</td>\n",
       "      <td>1.0</td>\n",
       "      <td>NaN</td>\n",
       "      <td>NaN</td>\n",
       "      <td>NaN</td>\n",
       "      <td>NaN</td>\n",
       "      <td>NaN</td>\n",
       "    </tr>\n",
       "    <tr>\n",
       "      <th>4</th>\n",
       "      <td>20.0</td>\n",
       "      <td>0.0</td>\n",
       "      <td>NaN</td>\n",
       "      <td>NaN</td>\n",
       "      <td>NaN</td>\n",
       "      <td>NaN</td>\n",
       "      <td>NaN</td>\n",
       "      <td>between 100,000 and 1 million</td>\n",
       "      <td>NaN</td>\n",
       "      <td>NaN</td>\n",
       "      <td>...</td>\n",
       "      <td>NaN</td>\n",
       "      <td>NaN</td>\n",
       "      <td>NaN</td>\n",
       "      <td>NaN</td>\n",
       "      <td>NaN</td>\n",
       "      <td>NaN</td>\n",
       "      <td>NaN</td>\n",
       "      <td>NaN</td>\n",
       "      <td>NaN</td>\n",
       "      <td>NaN</td>\n",
       "    </tr>\n",
       "  </tbody>\n",
       "</table>\n",
       "<p>5 rows × 136 columns</p>\n",
       "</div>"
      ],
      "text/plain": [
       "    Age  AttendedBootcamp  BootcampFinish  BootcampLoanYesNo BootcampName  \\\n",
       "0  27.0               0.0             NaN                NaN          NaN   \n",
       "1  34.0               0.0             NaN                NaN          NaN   \n",
       "2  21.0               0.0             NaN                NaN          NaN   \n",
       "3  26.0               0.0             NaN                NaN          NaN   \n",
       "4  20.0               0.0             NaN                NaN          NaN   \n",
       "\n",
       "   BootcampRecommend  ChildrenNumber                 CityPopulation  \\\n",
       "0                NaN             NaN            more than 1 million   \n",
       "1                NaN             NaN              less than 100,000   \n",
       "2                NaN             NaN            more than 1 million   \n",
       "3                NaN             NaN  between 100,000 and 1 million   \n",
       "4                NaN             NaN  between 100,000 and 1 million   \n",
       "\n",
       "   CodeEventConferences  CodeEventDjangoGirls         ...           \\\n",
       "0                   NaN                   NaN         ...            \n",
       "1                   NaN                   NaN         ...            \n",
       "2                   NaN                   NaN         ...            \n",
       "3                   NaN                   NaN         ...            \n",
       "4                   NaN                   NaN         ...            \n",
       "\n",
       "   YouTubeFCC  YouTubeFunFunFunction  YouTubeGoogleDev  YouTubeLearnCode  \\\n",
       "0         NaN                    NaN               NaN               NaN   \n",
       "1         1.0                    NaN               NaN               NaN   \n",
       "2         NaN                    NaN               NaN               1.0   \n",
       "3         1.0                    1.0               NaN               NaN   \n",
       "4         NaN                    NaN               NaN               NaN   \n",
       "\n",
       "   YouTubeLevelUpTuts  YouTubeMIT  YouTubeMozillaHacks YouTubeOther  \\\n",
       "0                 NaN         NaN                  NaN          NaN   \n",
       "1                 NaN         NaN                  NaN          NaN   \n",
       "2                 1.0         NaN                  NaN          NaN   \n",
       "3                 1.0         NaN                  NaN          NaN   \n",
       "4                 NaN         NaN                  NaN          NaN   \n",
       "\n",
       "   YouTubeSimplilearn  YouTubeTheNewBoston  \n",
       "0                 NaN                  NaN  \n",
       "1                 NaN                  NaN  \n",
       "2                 NaN                  NaN  \n",
       "3                 NaN                  NaN  \n",
       "4                 NaN                  NaN  \n",
       "\n",
       "[5 rows x 136 columns]"
      ]
     },
     "execution_count": 117,
     "metadata": {},
     "output_type": "execute_result"
    }
   ],
   "source": [
    "data.head()"
   ]
  },
  {
   "cell_type": "markdown",
   "metadata": {},
   "source": [
    "This is quite a large dataset in terms of having a ton of columns. I will narrow it down soon into the columns we want. I've opted to use this dataset because it would be way more expensive to collect data when you can just use pre-existing relevant data that is free.\n",
    "\n",
    "The dataset can be found at https://github.com/freeCodeCamp/2017-new-coder-survey"
   ]
  },
  {
   "cell_type": "code",
   "execution_count": 140,
   "metadata": {
    "collapsed": false
   },
   "outputs": [
    {
     "data": {
      "text/plain": [
       "(18175, 5)"
      ]
     },
     "execution_count": 140,
     "metadata": {},
     "output_type": "execute_result"
    }
   ],
   "source": [
    "# Shrink down the data\n",
    "cols = ['JobRoleInterest', 'CountryLive', 'MoneyForLearning',\n",
    "       'MonthsProgramming', 'AttendedBootcamp']\n",
    "df = data[cols]\n",
    "df.shape"
   ]
  },
  {
   "cell_type": "markdown",
   "metadata": {},
   "source": [
    "Alright, now the data is shrunk down to the main four columns I'm interested in working with so lets get cracking. The three questions I want to tackle are:\n",
    "\n",
    "1. Where are new coders located?\n",
    "2. What are the locations with the highest number of new coders?\n",
    "3. How much money are they willing to spend on learning?\n",
    "\n",
    "The population we have is new coders interested in a variety of things: data science, web development, video game development, etc. I'm going to first explore if we have a decently representative sample.\n",
    "\n",
    "# Sample"
   ]
  },
  {
   "cell_type": "code",
   "execution_count": 141,
   "metadata": {
    "collapsed": false
   },
   "outputs": [
    {
     "name": "stdout",
     "output_type": "stream",
     "text": [
      "[nan 'Full-Stack Web Developer'\n",
      " '  Front-End Web Developer, Back-End Web Developer,   DevOps / SysAdmin,   Mobile Developer, Full-Stack Web Developer'\n",
      " ... '  Data Scientist, Game Developer,   Quality Assurance Engineer'\n",
      " 'Back-End Web Developer, Data Engineer,   Data Scientist,   DevOps / SysAdmin'\n",
      " '  DevOps / SysAdmin,   Mobile Developer,   Product Manager, Game Developer,   Front-End Web Developer, Data Engineer,   Quality Assurance Engineer,   User Experience Designer, Back-End Web Developer,   Data Scientist, Full-Stack Web Developer, Information Security, IT specialist ']\n",
      "Full-Stack Web Developer                                                                                                                                                                                                            11.770595\n",
      "  Front-End Web Developer                                                                                                                                                                                                            6.435927\n",
      "  Data Scientist                                                                                                                                                                                                                     2.173913\n",
      "Back-End Web Developer                                                                                                                                                                                                               2.030892\n",
      "  Mobile Developer                                                                                                                                                                                                                   1.673341\n",
      "Game Developer                                                                                                                                                                                                                       1.630435\n",
      "Information Security                                                                                                                                                                                                                 1.315789\n",
      "Full-Stack Web Developer,   Front-End Web Developer                                                                                                                                                                                  0.915332\n",
      "  Front-End Web Developer, Full-Stack Web Developer                                                                                                                                                                                  0.800915\n",
      "  Product Manager                                                                                                                                                                                                                    0.786613\n",
      "Data Engineer                                                                                                                                                                                                                        0.758009\n",
      "  User Experience Designer                                                                                                                                                                                                           0.743707\n",
      "  User Experience Designer,   Front-End Web Developer                                                                                                                                                                                0.614989\n",
      "  Front-End Web Developer, Back-End Web Developer, Full-Stack Web Developer                                                                                                                                                          0.557780\n",
      "Back-End Web Developer,   Front-End Web Developer, Full-Stack Web Developer                                                                                                                                                          0.514874\n",
      "  DevOps / SysAdmin                                                                                                                                                                                                                  0.514874\n",
      "Back-End Web Developer, Full-Stack Web Developer,   Front-End Web Developer                                                                                                                                                          0.514874\n",
      "Full-Stack Web Developer,   Front-End Web Developer, Back-End Web Developer                                                                                                                                                          0.443364\n",
      "  Front-End Web Developer, Full-Stack Web Developer, Back-End Web Developer                                                                                                                                                          0.429062\n",
      "  Front-End Web Developer,   User Experience Designer                                                                                                                                                                                0.414760\n",
      "Full-Stack Web Developer,   Mobile Developer                                                                                                                                                                                         0.414760\n",
      "Back-End Web Developer, Full-Stack Web Developer                                                                                                                                                                                     0.386156\n",
      "Full-Stack Web Developer, Back-End Web Developer                                                                                                                                                                                     0.371854\n",
      "Back-End Web Developer,   Front-End Web Developer                                                                                                                                                                                    0.286041\n",
      "Full-Stack Web Developer, Back-End Web Developer,   Front-End Web Developer                                                                                                                                                          0.271739\n",
      "Data Engineer,   Data Scientist                                                                                                                                                                                                      0.271739\n",
      "  Front-End Web Developer,   Mobile Developer                                                                                                                                                                                        0.257437\n",
      "Full-Stack Web Developer,   Data Scientist                                                                                                                                                                                           0.243135\n",
      "  Data Scientist, Data Engineer                                                                                                                                                                                                      0.228833\n",
      "  Mobile Developer, Game Developer                                                                                                                                                                                                   0.228833\n",
      "                                                                                                                                                                                                                                      ...    \n",
      "  User Experience Designer, Back-End Web Developer,   Front-End Web Developer,   Mobile Developer, Full-Stack Web Developer                                                                                                          0.014302\n",
      "  User Experience Designer, Full-Stack Web Developer,   Data Scientist, Game Developer,   Front-End Web Developer, Information Security,   Product Manager                                                                           0.014302\n",
      "Data Engineer, Full-Stack Web Developer,   DevOps / SysAdmin, Game Developer,   Mobile Developer, Back-End Web Developer                                                                                                             0.014302\n",
      "Back-End Web Developer, Game Developer,   Front-End Web Developer, Full-Stack Web Developer,   DevOps / SysAdmin,   Mobile Developer                                                                                                 0.014302\n",
      "  User Experience Designer,   Product Manager,   DevOps / SysAdmin, Back-End Web Developer,   Front-End Web Developer,   Mobile Developer, Data Engineer, Full-Stack Web Developer,   Quality Assurance Engineer, Game Developer     0.014302\n",
      "Back-End Web Developer,   Mobile Developer, Game Developer,   User Experience Designer                                                                                                                                               0.014302\n",
      "  Front-End Web Developer,   User Experience Designer, Data Engineer, Back-End Web Developer,   Mobile Developer, Full-Stack Web Developer                                                                                           0.014302\n",
      "Data Engineer, Back-End Web Developer,   Data Scientist, Information Security, Game Developer                                                                                                                                        0.014302\n",
      "  Front-End Web Developer,   Mobile Developer,   User Experience Designer,   Product Manager,   DevOps / SysAdmin                                                                                                                    0.014302\n",
      "Full-Stack Web Developer, Back-End Web Developer,   Mobile Developer, Game Developer                                                                                                                                                 0.014302\n",
      "Data Engineer, Full-Stack Web Developer,   Front-End Web Developer                                                                                                                                                                   0.014302\n",
      "Research                                                                                                                                                                                                                             0.014302\n",
      "  Data Scientist, Full-Stack Web Developer, Information Security,   Quality Assurance Engineer, Data Engineer, Back-End Web Developer                                                                                                0.014302\n",
      "  Front-End Web Developer,   Product Manager,   User Experience Designer, Full-Stack Web Developer                                                                                                                                   0.014302\n",
      "  User Experience Designer, Back-End Web Developer, Data Engineer,   Front-End Web Developer                                                                                                                                         0.014302\n",
      "Full-Stack Web Developer, Information Security,   User Experience Designer,   Mobile Developer, Back-End Web Developer, Game Developer,   Front-End Web Developer                                                                    0.014302\n",
      "  DevOps / SysAdmin,   Mobile Developer, Back-End Web Developer,   Front-End Web Developer,   Data Scientist, Full-Stack Web Developer                                                                                               0.014302\n",
      "  Data Scientist, Information Security, Back-End Web Developer,   Mobile Developer, Data Engineer                                                                                                                                    0.014302\n",
      "  Data Scientist, Data Engineer, Full-Stack Web Developer,   Front-End Web Developer, Back-End Web Developer                                                                                                                         0.014302\n",
      "  Quality Assurance Engineer, Back-End Web Developer, Information Security,   Mobile Developer,   Front-End Web Developer, Game Developer,   Product Manager, Data Engineer, Full-Stack Web Developer                                0.014302\n",
      "  Front-End Web Developer, Back-End Web Developer,   Data Scientist, Full-Stack Web Developer,   Mobile Developer                                                                                                                    0.014302\n",
      "  Product Manager,   Data Scientist,   Front-End Web Developer, Full-Stack Web Developer, Back-End Web Developer, Data Engineer                                                                                                      0.014302\n",
      "Back-End Web Developer,   Quality Assurance Engineer,   Front-End Web Developer, Information Security, Full-Stack Web Developer                                                                                                      0.014302\n",
      "Data Engineer, Information Security, Game Developer, Full-Stack Web Developer,   Mobile Developer,   Data Scientist,   User Experience Designer                                                                                      0.014302\n",
      "  Product Manager, Information Security,   Front-End Web Developer                                                                                                                                                                   0.014302\n",
      "Game Developer,   User Experience Designer, Information Security,   DevOps / SysAdmin                                                                                                                                                0.014302\n",
      "  Front-End Web Developer, Game Developer,   DevOps / SysAdmin,   Mobile Developer                                                                                                                                                   0.014302\n",
      "Game Developer,   Front-End Web Developer, Data Engineer, Information Security,   Mobile Developer, Back-End Web Developer                                                                                                           0.014302\n",
      "  Mobile Developer, Game Developer,   Front-End Web Developer, Back-End Web Developer,   User Experience Designer, Full-Stack Web Developer, Information Security                                                                    0.014302\n",
      "Software Engineering                                                                                                                                                                                                                 0.014302\n",
      "Name: JobRoleInterest, Length: 3213, dtype: float64\n"
     ]
    }
   ],
   "source": [
    "# Frequency distribution of Jobs people are interested in\n",
    "print(df['JobRoleInterest'].unique())\n",
    "print(df['JobRoleInterest'].value_counts(normalize=True)*100)"
   ]
  },
  {
   "cell_type": "markdown",
   "metadata": {},
   "source": [
    "Seems like there are A LOT of different career paths people are interested in. The sample isn't wildly representative. This category is also kind of a mess because it was clearly just a text input variable. There are lots of things that are esoteric, for example \"I dont know what most of these are lol.'\n",
    "\n",
    "Regardless, seems like most people want to be front end web developers or Data Scientists. A significant portion of people also are interested in more than one thing.\n",
    "\n",
    "Most of the courses the company offers are mobile and web development. So I'll try to glean some info on those."
   ]
  },
  {
   "cell_type": "code",
   "execution_count": 142,
   "metadata": {
    "collapsed": false
   },
   "outputs": [
    {
     "name": "stdout",
     "output_type": "stream",
     "text": [
      "True     86.241419\n",
      "False    13.758581\n",
      "Name: JobRoleInterest, dtype: float64\n"
     ]
    }
   ],
   "source": [
    "interests_no_nulls = df['JobRoleInterest'].dropna()\n",
    "\n",
    "# Frequency table\n",
    "web_or_mobile = interests_no_nulls.str.contains(\n",
    "    'Web Developer|Mobile Developer') # returns an array of booleans\n",
    "freq_table = web_or_mobile.value_counts(normalize = True) * 100\n",
    "print(freq_table)"
   ]
  },
  {
   "cell_type": "markdown",
   "metadata": {},
   "source": [
    "So, in the code chunk above we looked through the job interest column and just got the number of people who are interested in either web or mobile development (or both). Let' take a quick look visually:"
   ]
  },
  {
   "cell_type": "code",
   "execution_count": 143,
   "metadata": {
    "collapsed": false
   },
   "outputs": [
    {
     "data": {
      "image/png": "[encoded data removed]",
      "text/plain": [
       "<matplotlib.figure.Figure at 0x7f4061947c88>"
      ]
     },
     "metadata": {},
     "output_type": "display_data"
    }
   ],
   "source": [
    "% matplotlib inline\n",
    "import matplotlib.pyplot as plt\n",
    "plt.style.use('fivethirtyeight')\n",
    "\n",
    "freq_table.plot.bar()\n",
    "plt.title('Percentage of Students Interested in Web \\n or Mobile Development')\n",
    "plt.ylabel('Percentage')\n",
    "plt.xticks([0,1],['Web or mobile\\ndevelopment', 'Other subject'],\n",
    "           rotation = 0)\n",
    "plt.ylim(0,100)\n",
    "plt.show()"
   ]
  },
  {
   "cell_type": "markdown",
   "metadata": {},
   "source": [
    "So, there we have it. The overwhelming majority of students are interested in web or mobile development, and this website teaches primarily web and mobile development, so we have a decently representative population.\n",
    "\n",
    "The only thing I would caution against here is that a very small proportion actually chose explicitly just one, the other, or both. Many students chose web or mobile development as a part of many interests. As such, many people who chose it might be very tangentially interested. That being said, almost 20% of the people are interested in being a full-stack or front end web developer.\n",
    "\n",
    "# Where are the new coders?\n",
    "## And where are they concentrated?\n",
    "\n",
    "Remember, we're trying to choose the two best markets. So let's look at where people live. The data are at the country level, so essentially we will determine the two best countries to advertise in."
   ]
  },
  {
   "cell_type": "code",
   "execution_count": 144,
   "metadata": {
    "collapsed": false
   },
   "outputs": [
    {
     "name": "stdout",
     "output_type": "stream",
     "text": [
      "                          Absolute frequency  Percentage\n",
      "United States of America                3125   45.700497\n",
      "India                                    528    7.721556\n",
      "United Kingdom                           315    4.606610\n",
      "Canada                                   260    3.802281\n",
      "Poland                                   131    1.915765\n",
      "Brazil                                   129    1.886517\n",
      "Germany                                  125    1.828020\n",
      "Australia                                112    1.637906\n",
      "Russia                                   102    1.491664\n",
      "Ukraine                                   89    1.301550\n"
     ]
    }
   ],
   "source": [
    "# Drop everyone whose not interested in mobile or web dev.\n",
    "new_df = df[df['JobRoleInterest'].notnull()]\n",
    "\n",
    "# Get frequency tables\n",
    "absolute_freq = new_df['CountryLive'].value_counts()\n",
    "relative_freq = new_df['CountryLive'].value_counts(normalize=True)*100\n",
    "freqs = pd.DataFrame(data = {'Absolute frequency': absolute_freq, \n",
    "                     'Percentage': relative_freq})\n",
    "print(freqs.head(10))"
   ]
  },
  {
   "cell_type": "markdown",
   "metadata": {
    "collapsed": true
   },
   "source": [
    "So, clearly at first blush the two best markets to advertise in here are the United States and India. \n",
    "\n",
    "This doesn't tell the whole story though - just because more people are wanting to learn, does not mean they are willing to spend money. So lets take a peek at how much money people are willing to spend in these markets.\n",
    "\n",
    "We're going to narrow down and look at money spent in USA, India, United Kingdom, and Canada. We will then have lots of data, and English is an official language in each of these places.\n",
    "\n",
    "# How much money are new coders spending?\n",
    "## In the USA, India, the United Kingdom, and Canada"
   ]
  },
  {
   "cell_type": "code",
   "execution_count": 145,
   "metadata": {
    "collapsed": false
   },
   "outputs": [
    {
     "name": "stderr",
     "output_type": "stream",
     "text": [
      "/dataquest/system/env/python3/lib/python3.4/site-packages/pandas/core/generic.py:4619: SettingWithCopyWarning: \n",
      "A value is trying to be set on a copy of a slice from a DataFrame\n",
      "\n",
      "See the caveats in the documentation: http://pandas.pydata.org/pandas-docs/stable/indexing.html#indexing-view-versus-copy\n",
      "  self._update_inplace(new_data)\n",
      "/dataquest/system/env/python3/lib/python3.4/site-packages/ipykernel/__main__.py:10: SettingWithCopyWarning: \n",
      "A value is trying to be set on a copy of a slice from a DataFrame.\n",
      "Try using .loc[row_indexer,col_indexer] = value instead\n",
      "\n",
      "See the caveats in the documentation: http://pandas.pydata.org/pandas-docs/stable/indexing.html#indexing-view-versus-copy\n"
     ]
    },
    {
     "data": {
      "text/plain": [
       "313"
      ]
     },
     "execution_count": 145,
     "metadata": {},
     "output_type": "execute_result"
    }
   ],
   "source": [
    "# Isolate only the countries of interest \n",
    "new_df = new_df[new_df['CountryLive'].notnull()]\n",
    "only_4 = new_df[new_df['CountryLive'].str.contains(\n",
    "    'United States of America|India|United Kingdom|Canada')]\n",
    "\n",
    "# Some students said 0 months coding, so we need to replace\n",
    "# All the 0s with 1s to avoid dividing by 0\n",
    "only_4['MonthsProgramming'].replace(0,1, inplace = True)\n",
    "\n",
    "only_4['Money_per_month'] = only_4['MoneyForLearning'] / only_4['MonthsProgramming']\n",
    "only_4['Money_per_month'].isna().sum()"
   ]
  },
  {
   "cell_type": "markdown",
   "metadata": {},
   "source": [
    "There are 313 students with na values for money per month - Let's just drop the nulls for both the new column and the country column"
   ]
  },
  {
   "cell_type": "code",
   "execution_count": 146,
   "metadata": {
    "collapsed": false
   },
   "outputs": [],
   "source": [
    "only_4 = only_4[only_4['Money_per_month'].notnull()]\n",
    "only_4 = only_4[only_4['CountryLive'].notnull()]"
   ]
  },
  {
   "cell_type": "markdown",
   "metadata": {},
   "source": [
    "Now, lets look at the average money per month spent, by country, in the countries we care about."
   ]
  },
  {
   "cell_type": "code",
   "execution_count": 147,
   "metadata": {
    "collapsed": false
   },
   "outputs": [
    {
     "data": {
      "text/plain": [
       "CountryLive\n",
       "Canada                      113.510961\n",
       "India                       135.100982\n",
       "United Kingdom               45.534443\n",
       "United States of America    227.997996\n",
       "Name: Money_per_month, dtype: float64"
      ]
     },
     "execution_count": 147,
     "metadata": {},
     "output_type": "execute_result"
    }
   ],
   "source": [
    "# Mean sum of money spent by students each month\n",
    "only_4['Money_per_month'].groupby(only_4['CountryLive']).mean()\n"
   ]
  },
  {
   "cell_type": "markdown",
   "metadata": {
    "collapsed": true
   },
   "source": [
    "The most money per month is being spent in the USA and India. This aligns with the previous analysis. It is odd that the United Kingdom seems to spend less than 1/3rd the amount the other three countries spend. Let's look at the distribution of this spending in the four countries."
   ]
  },
  {
   "cell_type": "code",
   "execution_count": 148,
   "metadata": {
    "collapsed": false
   },
   "outputs": [
    {
     "name": "stderr",
     "output_type": "stream",
     "text": [
      "/dataquest/system/env/python3/lib/python3.4/site-packages/seaborn/categorical.py:454: FutureWarning: remove_na is deprecated and is a private function. Do not use.\n",
      "  box_data = remove_na(group_data)\n"
     ]
    },
    {
     "data": {
      "image/png": "[encoded data removed]",
      "text/plain": [
       "<matplotlib.figure.Figure at 0x7f4079c944e0>"
      ]
     },
     "metadata": {},
     "output_type": "display_data"
    }
   ],
   "source": [
    "import seaborn as sns\n",
    "plt.style.use('fivethirtyeight')\n",
    "sns.boxplot(y = 'Money_per_month', x = 'CountryLive',\n",
    "            data = only_4)\n",
    "plt.title('Money Spent Per Month Per Country\\n(Distributions)',\n",
    "         fontsize = 16)\n",
    "plt.ylabel('Money per month (US dollars)')\n",
    "plt.xlabel('Country')\n",
    "plt.xticks(range(4), ['US', 'UK', 'India', 'Canada']) # avoids tick labels overlap\n",
    "plt.show()"
   ]
  },
  {
   "cell_type": "markdown",
   "metadata": {},
   "source": [
    "Seemingly, two people in the US spent over $50k a month on coding. Doubtful - lets remove."
   ]
  },
  {
   "cell_type": "code",
   "execution_count": 149,
   "metadata": {
    "collapsed": false
   },
   "outputs": [
    {
     "data": {
      "text/plain": [
       "CountryLive\n",
       "Canada                      113.510961\n",
       "India                       135.100982\n",
       "United Kingdom               45.534443\n",
       "United States of America    183.800110\n",
       "Name: Money_per_month, dtype: float64"
      ]
     },
     "execution_count": 149,
     "metadata": {},
     "output_type": "execute_result"
    }
   ],
   "source": [
    "# Isolate only those participants who spend less than 10000 per month# Isolat \n",
    "only_4 = only_4[only_4['Money_per_month'] < 20000]\n",
    "\n",
    "# Mean sum of money spent by students each month\n",
    "only_4['Money_per_month'].groupby(only_4['CountryLive']).mean()\n"
   ]
  },
  {
   "cell_type": "code",
   "execution_count": 150,
   "metadata": {
    "collapsed": false
   },
   "outputs": [
    {
     "name": "stderr",
     "output_type": "stream",
     "text": [
      "/dataquest/system/env/python3/lib/python3.4/site-packages/seaborn/categorical.py:454: FutureWarning: remove_na is deprecated and is a private function. Do not use.\n",
      "  box_data = remove_na(group_data)\n"
     ]
    },
    {
     "data": {
      "image/png": "[encoded data removed]",
      "text/plain": [
       "<matplotlib.figure.Figure at 0x7f4079be4240>"
      ]
     },
     "metadata": {},
     "output_type": "display_data"
    }
   ],
   "source": [
    "# Box plots to visualize distributions\n",
    "sns.boxplot(y = 'Money_per_month', x = 'CountryLive',\n",
    "            data = only_4)\n",
    "plt.title('Money Spent Per Month Per Country\\n(Distributions)',\n",
    "         fontsize = 16)\n",
    "plt.ylabel('Money per month (US dollars)')\n",
    "plt.xlabel('Country')\n",
    "plt.xticks(range(4), ['US', 'UK', 'India', 'Canada']) # avoids tick labels overlap\n",
    "plt.show()"
   ]
  },
  {
   "cell_type": "markdown",
   "metadata": {},
   "source": [
    "Given we aren't marketing to people who take bootcamps, or who can afford bootcamps, I'm just going to remove everyone who has taken one, and redo these averages."
   ]
  },
  {
   "cell_type": "code",
   "execution_count": 153,
   "metadata": {
    "collapsed": false
   },
   "outputs": [
    {
     "data": {
      "text/plain": [
       "CountryLive\n",
       "Canada                       64.127841\n",
       "India                       133.369810\n",
       "United Kingdom               34.468329\n",
       "United States of America    101.964014\n",
       "Name: Money_per_month, dtype: float64"
      ]
     },
     "execution_count": 153,
     "metadata": {},
     "output_type": "execute_result"
    }
   ],
   "source": [
    "only_4 = only_4[only_4['AttendedBootcamp'] == 0]\n",
    "\n",
    "# Mean sum of money spent by students each month\n",
    "only_4['Money_per_month'].groupby(only_4['CountryLive']).mean()\n"
   ]
  },
  {
   "cell_type": "code",
   "execution_count": 154,
   "metadata": {
    "collapsed": false
   },
   "outputs": [
    {
     "name": "stderr",
     "output_type": "stream",
     "text": [
      "/dataquest/system/env/python3/lib/python3.4/site-packages/seaborn/categorical.py:454: FutureWarning: remove_na is deprecated and is a private function. Do not use.\n",
      "  box_data = remove_na(group_data)\n"
     ]
    },
    {
     "data": {
      "image/png": "[encoded data removed]",
      "text/plain": [
       "<matplotlib.figure.Figure at 0x7f406199a7f0>"
      ]
     },
     "metadata": {},
     "output_type": "display_data"
    }
   ],
   "source": [
    "# Box plots to visualize distributions\n",
    "sns.boxplot(y = 'Money_per_month', x = 'CountryLive',\n",
    "            data = only_4)\n",
    "plt.title('Money Spent Per Month Per Country\\n(Distributions)',\n",
    "         fontsize = 16)\n",
    "plt.ylabel('Money per month (US dollars)')\n",
    "plt.xlabel('Country')\n",
    "plt.xticks(range(4), ['US', 'UK', 'India', 'Canada']) # avoids tick labels overlap\n",
    "plt.show()"
   ]
  },
  {
   "cell_type": "markdown",
   "metadata": {},
   "source": [
    "There are still clear outliers here. I'm going to remove everyone in india who spent over \\$2000 a month, and everyone in the US who spent over \\$6000. "
   ]
  },
  {
   "cell_type": "code",
   "execution_count": 156,
   "metadata": {
    "collapsed": false
   },
   "outputs": [
    {
     "data": {
      "text/plain": [
       "CountryLive\n",
       "Canada                      64.127841\n",
       "India                       62.611370\n",
       "United Kingdom              34.468329\n",
       "United States of America    76.350634\n",
       "Name: Money_per_month, dtype: float64"
      ]
     },
     "execution_count": 156,
     "metadata": {},
     "output_type": "execute_result"
    }
   ],
   "source": [
    "us_outliers = only_4[\n",
    "    (only_4['CountryLive'] == 'United States of America') & \n",
    "    (only_4['Money_per_month'] > 6000)]\n",
    "\n",
    "india_outliers = only_4[\n",
    "    (only_4['CountryLive'] == 'India') &\n",
    "    (only_4['Money_per_month'] > 2000)\n",
    "]\n",
    "\n",
    "# Remove the extreme outliers for US and India\n",
    "only_4 = only_4.drop(us_outliers.index)\n",
    "only_4 = only_4.drop(india_outliers.index)\n",
    "\n",
    "# Mean sum of money spent by students each month\n",
    "only_4['Money_per_month'].groupby(only_4['CountryLive']).mean()"
   ]
  },
  {
   "cell_type": "code",
   "execution_count": 157,
   "metadata": {
    "collapsed": false
   },
   "outputs": [
    {
     "name": "stderr",
     "output_type": "stream",
     "text": [
      "/dataquest/system/env/python3/lib/python3.4/site-packages/seaborn/categorical.py:454: FutureWarning: remove_na is deprecated and is a private function. Do not use.\n",
      "  box_data = remove_na(group_data)\n"
     ]
    },
    {
     "data": {
      "image/png": "[encoded data removed]",
      "text/plain": [
       "<matplotlib.figure.Figure at 0x7f406199eeb8>"
      ]
     },
     "metadata": {},
     "output_type": "display_data"
    }
   ],
   "source": [
    "# Box plots to visualize distributions\n",
    "sns.boxplot(y = 'Money_per_month', x = 'CountryLive',\n",
    "            data = only_4)\n",
    "plt.title('Money Spent Per Month Per Country\\n(Distributions)',\n",
    "         fontsize = 16)\n",
    "plt.ylabel('Money per month (US dollars)')\n",
    "plt.xlabel('Country')\n",
    "plt.xticks(range(4), ['US', 'UK', 'India', 'Canada']) # avoids tick labels overlap\n",
    "plt.show()"
   ]
  },
  {
   "cell_type": "markdown",
   "metadata": {},
   "source": [
    "So, gunning towards choosing the two markets, the United States is clearly one of them.\n",
    "\n",
    "The other is choosing between Canada and india. The people in Canada seem to be willing to spend a little bit more money per month, but its only \\$2 difference. On top of this, there are, if you recall, about twice as many people in India. Let's recalculate this since we've dropped folks."
   ]
  },
  {
   "cell_type": "code",
   "execution_count": 158,
   "metadata": {
    "collapsed": false
   },
   "outputs": [
    {
     "name": "stdout",
     "output_type": "stream",
     "text": [
      "                          Absolute frequency  Percentage\n",
      "United States of America                2674   73.785872\n",
      "India                                    448   12.362031\n",
      "United Kingdom                           272    7.505519\n",
      "Canada                                   230    6.346578\n"
     ]
    }
   ],
   "source": [
    "# Get frequency tables\n",
    "absolute_freq = only_4['CountryLive'].value_counts()\n",
    "relative_freq = only_4['CountryLive'].value_counts(normalize=True)*100\n",
    "freqs = pd.DataFrame(data = {'Absolute frequency': absolute_freq, \n",
    "                     'Percentage': relative_freq})\n",
    "print(freqs.head(10))"
   ]
  },
  {
   "cell_type": "markdown",
   "metadata": {},
   "source": [
    "As suspected - twice as many people in India as Canada who are interested in learning to be web or mobile developers.\n",
    "\n",
    "Based on this, I would choose to advertise in the United States and in India.\n",
    "\n",
    "# Conclusions\n",
    "\n",
    "At this point, it seems that we have several options:\n",
    "\n",
    "1. Advertise in the US, India, and Canada by splitting the advertisement budget in various combinations:\n",
    "\n",
    "-  60% for the US, 25% for India, 15% for Canada.\n",
    "-  50% for the US, 30% for India, 20% for Canada; etc.\n",
    "\n",
    "2. Advertise only in the US and India, or the US and Canada. Again, it makes sense to split the advertisement budget unequally. For instance:\n",
    "\n",
    "-  70% for the US, and 30% for India.\n",
    "- 65% for the US, and 35% for Canada; etc.\n",
    "\n",
    "3. Advertise only in the US.\n",
    "\n",
    "At this point, it's probably best to send our analysis to the marketing team and let them use their domain knowledge to decide. They might want to do some extra surveys in India and Canada and then get back to us for analyzing the new survey data."
   ]
  },
  {
   "cell_type": "code",
   "execution_count": null,
   "metadata": {
    "collapsed": true
   },
   "outputs": [],
   "source": []
  }
 ],
 "metadata": {
  "kernelspec": {
   "display_name": "Python 3",
   "language": "python",
   "name": "python3"
  },
  "language_info": {
   "codemirror_mode": {
    "name": "ipython",
    "version": 3
   },
   "file_extension": ".py",
   "mimetype": "text/x-python",
   "name": "python",
   "nbconvert_exporter": "python",
   "pygments_lexer": "ipython3",
   "version": "3.4.3"
  }
 },
 "nbformat": 4,
 "nbformat_minor": 2
}
