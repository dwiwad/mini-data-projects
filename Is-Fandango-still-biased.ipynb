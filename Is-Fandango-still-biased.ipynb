{
 "cells": [
  {
   "cell_type": "markdown",
   "metadata": {},
   "source": [
    "# Analyzing Movie Ratings From Fandango - Biased or Not?\n",
    "\n",
    "There is some speculation that Fandango skews movie ratings to be more positive. A journalist at fivethirtyeight discovered that rankings are almost always rounded up from their actual value when displayd. For example, a rating of 4.1 would be rounded to 4.5 instead of 4.0, or that 4.5 would be rounded up to 5.0 instead of held constant.\n",
    "\n",
    "The goal of this project will be simply to do a little bit of visual exploration to attempt to replicate the original findings presented here:\n",
    "\n",
    "https://fivethirtyeight.com/features/fandango-movies-ratings/\n",
    "\n",
    "Are Fandango ratings still biased?\n",
    "\n",
    "## Replicating Hickey's Findings\n",
    "\n",
    "First, I will do some visualizations of the original data, taken from Hickey's github:\n",
    "\n",
    "https://github.com/fivethirtyeight/data/tree/master/fandango"
   ]
  },
  {
   "cell_type": "code",
   "execution_count": 1,
   "metadata": {
    "collapsed": false
   },
   "outputs": [
    {
     "name": "stdout",
     "output_type": "stream",
     "text": [
      "['FILM', 'RottenTomatoes', 'RottenTomatoes_User', 'Metacritic', 'Metacritic_User', 'IMDB', 'Fandango_Stars', 'Fandango_Ratingvalue', 'RT_norm', 'RT_user_norm', 'Metacritic_norm', 'Metacritic_user_nom', 'IMDB_norm', 'RT_norm_round', 'RT_user_norm_round', 'Metacritic_norm_round', 'Metacritic_user_norm_round', 'IMDB_norm_round', 'Metacritic_user_vote_count', 'IMDB_user_vote_count', 'Fandango_votes', 'Fandango_Difference']\n",
      "['movie', 'year', 'metascore', 'imdb', 'tmeter', 'audience', 'fandango', 'n_metascore', 'n_imdb', 'n_tmeter', 'n_audience', 'nr_metascore', 'nr_imdb', 'nr_tmeter', 'nr_audience']\n"
     ]
    }
   ],
   "source": [
    "import pandas as pd\n",
    "\n",
    "# Grab in the two relevant data sets, pre and post Hickey\n",
    "pre_data = pd.read_csv('fandango_score_comparison.csv')\n",
    "post_data = pd.read_csv('movie_ratings_16_17.csv')\n",
    "\n",
    "# Print just the column names to see whats up\n",
    "print(pre_data.columns.tolist())\n",
    "print(post_data.columns.tolist())"
   ]
  },
  {
   "cell_type": "markdown",
   "metadata": {},
   "source": [
    "In this particular analysis, we're only really interested in Fandango ratings, so I'm going to trim the data sets so they only have columns relating to Fandango."
   ]
  },
  {
   "cell_type": "code",
   "execution_count": 2,
   "metadata": {
    "collapsed": true
   },
   "outputs": [],
   "source": [
    "pre_cols = ['FILM', 'Fandango_Stars', 'Fandango_Ratingvalue', 'Fandango_votes', 'Fandango_Difference']\n",
    "post_cols = ['movie', 'year', 'fandango']\n",
    "\n",
    "pre_data = pre_data[pre_cols]\n",
    "post_data = post_data[post_cols]"
   ]
  },
  {
   "cell_type": "markdown",
   "metadata": {},
   "source": [
    "In these analyses the population that we are interested in exploring is the entirety of the movie ratings on Fandango, both pre and post Hickey's analysis.\n",
    "\n",
    "The data we have is just a sampling of these movies - not every single movie on Fandango is included. The sampling is not random, but was done with meaningful criteria. For example, in Hickey's original analysis the movie needed to have ratings on all the major site, plus 30 user ratings on Fandango.\n",
    "\n",
    "Now, given this is an exercise from Dataquest I am going to follow what they do, in that they change their goal to be exploring if there is a difference in Fandango's ratings for popular movies in 2015 and 2016 turning the samples into populations.\n",
    "\n",
    "This is wildly wrong and a backwards way to go about doing these kind of data driven assessments. I'm going to do it anyways."
   ]
  },
  {
   "cell_type": "code",
   "execution_count": 6,
   "metadata": {
    "collapsed": false
   },
   "outputs": [
    {
     "data": {
      "text/plain": [
       "count      146.000000\n",
       "mean      3848.787671\n",
       "std       6357.778617\n",
       "min         35.000000\n",
       "25%        222.250000\n",
       "50%       1446.000000\n",
       "75%       4439.500000\n",
       "max      34846.000000\n",
       "Name: Fandango_votes, dtype: float64"
      ]
     },
     "execution_count": 6,
     "metadata": {},
     "output_type": "execute_result"
    }
   ],
   "source": [
    "# Checking that the movies in each data set have > 30\n",
    "# ratings and are thus \"popular\"\n",
    "print(pre_data['Fandango_votes'].describe())\n",
    "print(post_data[''].describe())"
   ]
  },
  {
   "cell_type": "markdown",
   "metadata": {},
   "source": [
    "For the pre data, the minimum number of votes is 35, so they are all \"popular.\" The right information is not present in the post data, and I'm not about to go digging through Fandago's site, looking up a random set of movies from these data to look at how many ratings they have. So we'll say yes."
   ]
  },
  {
   "cell_type": "code",
   "execution_count": 11,
   "metadata": {
    "collapsed": false
   },
   "outputs": [
    {
     "data": {
      "text/html": [
       "<div>\n",
       "<style scoped>\n",
       "    .dataframe tbody tr th:only-of-type {\n",
       "        vertical-align: middle;\n",
       "    }\n",
       "\n",
       "    .dataframe tbody tr th {\n",
       "        vertical-align: top;\n",
       "    }\n",
       "\n",
       "    .dataframe thead th {\n",
       "        text-align: right;\n",
       "    }\n",
       "</style>\n",
       "<table border=\"1\" class=\"dataframe\">\n",
       "  <thead>\n",
       "    <tr style=\"text-align: right;\">\n",
       "      <th></th>\n",
       "      <th>movie</th>\n",
       "      <th>year</th>\n",
       "      <th>fandango</th>\n",
       "    </tr>\n",
       "  </thead>\n",
       "  <tbody>\n",
       "    <tr>\n",
       "      <th>0</th>\n",
       "      <td>10 Cloverfield Lane</td>\n",
       "      <td>2016</td>\n",
       "      <td>3.5</td>\n",
       "    </tr>\n",
       "    <tr>\n",
       "      <th>1</th>\n",
       "      <td>13 Hours</td>\n",
       "      <td>2016</td>\n",
       "      <td>4.5</td>\n",
       "    </tr>\n",
       "    <tr>\n",
       "      <th>2</th>\n",
       "      <td>A Cure for Wellness</td>\n",
       "      <td>2016</td>\n",
       "      <td>3.0</td>\n",
       "    </tr>\n",
       "    <tr>\n",
       "      <th>4</th>\n",
       "      <td>A Hologram for the King</td>\n",
       "      <td>2016</td>\n",
       "      <td>3.0</td>\n",
       "    </tr>\n",
       "    <tr>\n",
       "      <th>5</th>\n",
       "      <td>A Monster Calls</td>\n",
       "      <td>2016</td>\n",
       "      <td>4.0</td>\n",
       "    </tr>\n",
       "  </tbody>\n",
       "</table>\n",
       "</div>"
      ],
      "text/plain": [
       "                     movie  year  fandango\n",
       "0      10 Cloverfield Lane  2016       3.5\n",
       "1                 13 Hours  2016       4.5\n",
       "2      A Cure for Wellness  2016       3.0\n",
       "4  A Hologram for the King  2016       3.0\n",
       "5          A Monster Calls  2016       4.0"
      ]
     },
     "execution_count": 11,
     "metadata": {},
     "output_type": "execute_result"
    }
   ],
   "source": [
    "# Isolate movies from the target years for this new\n",
    "# analysis, 2015 and 2016.\n",
    "pre_data['Year'] = pre_data['FILM'].str[-5:-1]\n",
    "fandango_15 = pre_data[pre_data['Year'] == '2015']\n",
    "\n",
    "fandango_16 = post_data[post_data['year'] == 2016]\n"
   ]
  },
  {
   "cell_type": "markdown",
   "metadata": {},
   "source": [
    "## Kernel Density Plots for Fandango Ratings"
   ]
  },
  {
   "cell_type": "code",
   "execution_count": 24,
   "metadata": {
    "collapsed": false
   },
   "outputs": [
    {
     "data": {
      "text/plain": [
       "(0, 5)"
      ]
     },
     "execution_count": 24,
     "metadata": {},
     "output_type": "execute_result"
    },
    {
     "data": {
      "image/png": "[encoded data removed]",
      "text/plain": [
       "<matplotlib.figure.Figure at 0x7f476bfe4be0>"
      ]
     },
     "metadata": {},
     "output_type": "display_data"
    }
   ],
   "source": [
    "import matplotlib.pyplot as plt\n",
    "from numpy import arange\n",
    "% matplotlib inline\n",
    "plt.style.use('fivethirtyeight')\n",
    "\n",
    "fandango_15['Fandango_Stars'].plot.kde(label = '2015', legend=True)\n",
    "fandango_16['fandango'].plot.kde(label = '2016', legend=True)\n",
    "plt.xlabel('Fandango Stars')\n",
    "plt.xticks(arange(0,5.1,.5))\n",
    "plt.xlim(0,5)"
   ]
  },
  {
   "cell_type": "markdown",
   "metadata": {},
   "source": [
    "Based on what I can see here, the ratings in 2016 look a bit more normal, but centered pretty heavily on 4, compared to the step-like structure of the 2015 ratings.\n",
    "\n",
    "It looks like their ratings have gotten a little bit less biased towards the top end (4.5 and 5). Let's take a quick look to see if the average was actually lower in 2016."
   ]
  },
  {
   "cell_type": "code",
   "execution_count": 33,
   "metadata": {
    "collapsed": false
   },
   "outputs": [
    {
     "name": "stdout",
     "output_type": "stream",
     "text": [
      "2015 mean    4.085271\n",
      "std     0.538096\n",
      "Name: Fandango_Stars, dtype: float64\n",
      "2016 mean    3.887435\n",
      "std     0.509540\n",
      "Name: fandango, dtype: float64\n"
     ]
    }
   ],
   "source": [
    "print('2015', fandango_15['Fandango_Stars'].describe().iloc[[1,2]])\n",
    "print('2016', fandango_16['fandango'].describe().iloc[[1,2]])"
   ]
  },
  {
   "cell_type": "markdown",
   "metadata": {},
   "source": [
    "The ratings are a bit lower in 2016, but given those means and standard deviations I'm not sure. That is an effect of Cohen's d = .38, which is about a medium effect. Let's look at the frequency distributions."
   ]
  },
  {
   "cell_type": "code",
   "execution_count": 37,
   "metadata": {
    "collapsed": false
   },
   "outputs": [
    {
     "name": "stdout",
     "output_type": "stream",
     "text": [
      "3.0    0.085271\n",
      "3.5    0.178295\n",
      "4.0    0.286822\n",
      "4.5    0.379845\n",
      "5.0    0.069767\n",
      "Name: Fandango_Stars, dtype: float64\n",
      "2.5    0.031414\n",
      "3.0    0.073298\n",
      "3.5    0.240838\n",
      "4.0    0.403141\n",
      "4.5    0.246073\n",
      "5.0    0.005236\n",
      "Name: fandango, dtype: float64\n"
     ]
    }
   ],
   "source": [
    "print(fandango_15['Fandango_Stars'].value_counts(normalize=True).sort_index())\n",
    "print(fandango_16['fandango'].value_counts(normalize=True).sort_index())"
   ]
  },
  {
   "cell_type": "markdown",
   "metadata": {},
   "source": [
    "The main thing that can be pulled from this is that in 2016 they (a) actually had some ratings below 3, (b) the modal response is 4 instead of 4.5, and (c) there are much less 4.5s and 5s. So the ratings clearly have pulled down a little bit. \n",
    "\n",
    "I'll generate a plot of the three summarry stats to compare."
   ]
  },
  {
   "cell_type": "code",
   "execution_count": 50,
   "metadata": {
    "collapsed": false
   },
   "outputs": [
    {
     "data": {
      "image/png": "[encoded data removed]",
      "text/plain": [
       "<matplotlib.figure.Figure at 0x7f476b308390>"
      ]
     },
     "metadata": {},
     "output_type": "display_data"
    }
   ],
   "source": [
    "mean_15 = fandango_15['Fandango_Stars'].mean()\n",
    "mean_16 = fandango_16['fandango'].mean()\n",
    "\n",
    "median_15 = fandango_15['Fandango_Stars'].median()\n",
    "median_16 = fandango_16['fandango'].median()\n",
    "\n",
    "mode_15 = fandango_15['Fandango_Stars'].mode()[0] # the output of Series.mode() is a bit uncommon\n",
    "mode_16 = fandango_16['fandango'].mode()[0]\n",
    "\n",
    "summary = pd.DataFrame()\n",
    "summary['2015'] = [mean_15, median_15, mode_15]\n",
    "summary['2016'] = [mean_16, median_16, mode_16]\n",
    "summary.index = ['mean', 'median', 'mode']\n",
    "summary\n",
    "\n",
    "summary['2015'].plot.bar(color = '#0066FF', align = 'center', label = '2015', width = .25)\n",
    "summary['2016'].plot.bar(color = '#CC0000', align = 'edge', label = '2016', width = .25,\n",
    "                         rot = 0, figsize = (8,5))\n",
    "\n",
    "plt.title('Comparing summary statistics: 2015 vs 2016', y = 1.07)\n",
    "plt.ylim(0,5.5)\n",
    "plt.yticks(arange(0,5.1,.5))\n",
    "plt.ylabel('Stars')\n",
    "plt.legend(framealpha = 0, loc = 'upper center')\n",
    "plt.show()"
   ]
  },
  {
   "cell_type": "code",
   "execution_count": null,
   "metadata": {
    "collapsed": true
   },
   "outputs": [],
   "source": []
  }
 ],
 "metadata": {
  "kernelspec": {
   "display_name": "Python 3",
   "language": "python",
   "name": "python3"
  },
  "language_info": {
   "codemirror_mode": {
    "name": "ipython",
    "version": 3
   },
   "file_extension": ".py",
   "mimetype": "text/x-python",
   "name": "python",
   "nbconvert_exporter": "python",
   "pygments_lexer": "ipython3",
   "version": "3.4.3"
  }
 },
 "nbformat": 4,
 "nbformat_minor": 2
}
